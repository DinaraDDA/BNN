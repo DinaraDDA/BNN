{
 "cells": [
  {
   "cell_type": "code",
   "execution_count": null,
   "metadata": {},
   "outputs": [],
   "source": [
    "!pip install kanren"
   ]
  },
  {
   "cell_type": "code",
   "execution_count": 1,
   "metadata": {},
   "outputs": [],
   "source": [
    "from kanren import *\n",
    "from kanren.core import lall"
   ]
  },
  {
   "cell_type": "code",
   "execution_count": 2,
   "metadata": {},
   "outputs": [],
   "source": [
    "def left(q, p, list):\n",
    "    return membero((q,p), zip(list, list[1:]))\n",
    "\n",
    "def next(q, p, list):\n",
    "    return conde([left(q, p, list)], [left(p, q, list)])"
   ]
  },
  {
   "cell_type": "code",
   "execution_count": 3,
   "metadata": {},
   "outputs": [],
   "source": [
    "port = var()"
   ]
  },
  {
   "cell_type": "markdown",
   "metadata": {},
   "source": [
    "Каждому кораблю — в свой порт\n",
    "В порте пять кораблей.\n",
    "1. Греческий корабль отчаливает в шесть. Он везет кофе.\n",
    "2. У корабля, который в середине — черная труба.\n",
    "3. Английский корабль отплывает в девять.\n",
    "4. Французский корабль, у которого синяя труба, пришвартован слева от корабля, который везет кофе.\n",
    "5. Справа от корабля, на котором груз какао, корабль, который плывет в Марсель.\n",
    "6. Корабль под бразильским флагом направляется на Манилы.\n",
    "7. Рядом с кораблем, на котором рис, — корабль с зеленой трубой.\n",
    "8. Корабль, плывущий в Геную, отходит в пять.\n",
    "9. Испанский корабль отплывает в семь и находится справа от корабля, плывущего в Марсель.\n",
    "10. Корабль с красной трубой направляется в Гамбург.\n",
    "11. Рядом с кораблем, который отчаливает в семь, корабль с белой трубой.\n",
    "12. На крайнем корабле — зерно.\n",
    "13. Корабль с черной трубой отплывает в восемь.\n",
    "14. Корабль с зерном пришвартован рядом с кораблем, на котором груз риса.\n",
    "15. Корабль, следующий до Гамбурга, отчаливает в 6.\n",
    "Вопрос:\n",
    "Который корабль плывет в Порт-Саид? Который корабль гружен чаем?"
   ]
  },
  {
   "cell_type": "code",
   "execution_count": 70,
   "metadata": {},
   "outputs": [],
   "source": [
    "rules_ship = lall(\n",
    "    (eq, (var(), var(), var(), var(), var()), port),\n",
    "    (membero, ('Греческий', 'кофе', var(), 'в 6', var()), port),#1Греческий корабль отчаливает в шесть. Он везет кофе\n",
    "    (eq, (var(), var(), (var(), var(), 'черная', var(), var()), var(), var()), port),#У корабля, который в середине — черная труба.\n",
    "    (membero, ('Английский', var(), var(), 'в 9', var()), port), #Английский корабль отплывает в девять.\n",
    "    (left, (var(), 'кофе', var(), var(), var()), ('Франузский', var(), 'синяя', var(), var()), port), #4\n",
    "    (left, (var(), var(), var(), var(), 'Марсель'), (var(), 'какао', var(), var(), var()), port), #5Справа от корабля, на котором груз какао, корабль, который плывет в Марсель.\n",
    "    (membero, ('Бразильский', var(), var(), var(), 'Манилы'), port), #6\n",
    "    (next, (var(), 'рис', var(), var(), var()), (var(), var(), 'зеленая', var(), var()), port), #7Рядом с кораблем, на котором рис, — корабль с зеленой трубой.\n",
    "    (membero, (var(), var(), var(), 'в 5', 'Генуя'), port), #8\n",
    "    (left, ('Испанский', var(), var(), 'в 7', var()), (var(), var(), var(), var(), 'Марсель'), port), #9\n",
    "    (membero, (var(), var(), 'красная', var(), 'Гамбург'), port), #10\n",
    "    (next, (var(), var(), 'белая', var(), var()), (var(), var(), var(), 'в 7', var()), port), #11\n",
    "    (eq, (var(), var(), var(), var(), (var(), 'зерно', var(), var(), var())), port), #12На крайнем корабле — зерно.\n",
    "    (membero, (var(), var(), 'черная', 'в 8', var()), port), # 13\n",
    "    (next, (var(), 'зерно', var(), var(), var()), (var(), 'рис', var(), var(), var()), port), #14\n",
    "    (membero, (var(), var(), var(), 'в 6', 'Гамбург'), port),\n",
    "    (membero, (var(), var(), var(), var(), 'Порт-Саид'), port)\n",
    "#     (membero, (var(), 'чай', var(), var(), var()), port)\n",
    ")"
   ]
  },
  {
   "cell_type": "code",
   "execution_count": 71,
   "metadata": {},
   "outputs": [],
   "source": [
    "solutions = run(0, port, rules_ship)"
   ]
  },
  {
   "cell_type": "code",
   "execution_count": 72,
   "metadata": {},
   "outputs": [
    {
     "data": {
      "text/plain": [
       "((('Испанский', 'зерно', 'зеленая', 'в 7', 'Порт-Саид'),\n",
       "  ('Английский', 'рис', 'белая', 'в 9', 'Марсель'),\n",
       "  ('Бразильский', 'какао', 'черная', 'в 8', 'Манилы'),\n",
       "  ('Греческий', 'кофе', 'красная', 'в 6', 'Гамбург'),\n",
       "  ('Франузский', 'зерно', 'синяя', 'в 5', 'Генуя')),)"
      ]
     },
     "execution_count": 72,
     "metadata": {},
     "output_type": "execute_result"
    }
   ],
   "source": [
    "solutions"
   ]
  },
  {
   "cell_type": "code",
   "execution_count": 73,
   "metadata": {},
   "outputs": [
    {
     "name": "stdout",
     "output_type": "stream",
     "text": [
      "\n",
      "Here are all the details:\n",
      "\n",
      "Ship\t\tFood\t\tColor\t\tTime\t\tCity\n",
      "=========================================================\n",
      "\n",
      "Испанский\t\tзерно\t\tзеленая\t\tв 7\t\tПорт-Саид\n",
      "\n",
      "Английский\t\tрис\t\tбелая\t\tв 9\t\tМарсель\n",
      "\n",
      "Бразильский\t\tкакао\t\tчерная\t\tв 8\t\tМанилы\n",
      "\n",
      "Греческий\t\tкофе\t\tкрасная\t\tв 6\t\tГамбург\n",
      "\n",
      "Франузский\t\tзерно\t\tсиняя\t\tв 5\t\tГенуя\n"
     ]
    }
   ],
   "source": [
    "print('\\nHere are all the details:')\n",
    "attribs = ['Ship', 'Food', 'Color', 'Time', 'City']\n",
    "print('\\n' + '\\t\\t'.join(attribs))\n",
    "print('=' * 57)\n",
    "for item in solutions[0]:\n",
    "    print('')\n",
    "    print('\\t\\t'.join([str(x) for x in item]))"
   ]
  },
  {
   "cell_type": "code",
   "execution_count": 74,
   "metadata": {},
   "outputs": [],
   "source": [
    "#программ работает правильно, за исключением одного, не получилось определить чай. Не могу найти ошибку((( "
   ]
  }
 ],
 "metadata": {
  "kernelspec": {
   "display_name": "Python 3",
   "language": "python",
   "name": "python3"
  },
  "language_info": {
   "codemirror_mode": {
    "name": "ipython",
    "version": 3
   },
   "file_extension": ".py",
   "mimetype": "text/x-python",
   "name": "python",
   "nbconvert_exporter": "python",
   "pygments_lexer": "ipython3",
   "version": "3.7.4"
  }
 },
 "nbformat": 4,
 "nbformat_minor": 4
}
